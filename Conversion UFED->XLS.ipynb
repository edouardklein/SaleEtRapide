{
 "cells": [
  {
   "cell_type": "markdown",
   "metadata": {},
   "source": [
    "# Integration d'une conversation SMS/MMS dans une pièce de procédure\n",
    "\n",
    "UFED Physical Analyser permet de retourver les conversations SMS et MMS, mais les capacités d'export proposées ne permettent pas une intégration facile et lisible de ces conversations dans une pièce de procédure. Le principa problème est la séparation des SMS et MMS en deux fichiers différents (avec chacun des images dans un fichier à part), et le manque de différenciation entre les deux interlocuteurs.\n",
    "\n",
    "Les petits bouts de code ci dessous répondent à ce besoin en créant un tableau HTML, qu'il faudra ensuite convertir en ODT.\n",
    "\n",
    "## Export des conversations\n",
    "\n",
    "Le code suppose qu'on ne veut exporter les conversations qu'entre Alice et Bob, si Charlie vient se mêler à la conversation, il est possible d'adapter le code, mais là on part sur uniquement deux interlocuteurs.\n",
    "\n",
    "Les conversations SMS et MMS sont à exporter en .xlsx avec UFED. \n",
    "\n",
    "## Variables d'entrée\n",
    "Les fichiers ainsi créés sont renseignés dans les variables SMS_FILE et MMS_FILE.\n",
    "\n",
    "MAXWIDTH est la largeur en pixel des images. 100, c'est bien pour une page A4, voire même un peu grand.\n",
    "\n",
    "YOU_SUBSTR et ME_SUBSTR sont les noms des contacts, on peut replacer par les numéros, il faut regarder dans la colonne 'Correspondant' des fichiers .xlsx."
   ]
  },
  {
   "cell_type": "code",
   "execution_count": 1,
   "metadata": {
    "collapsed": true
   },
   "outputs": [],
   "source": [
    "SMS_FILE = 'UfedSMSExport/Alicesms.xlsx'\n",
    "MMS_FILE = 'UfedMMSExport/Alicemms.xlsx'\n",
    "MAXWIDTH = 100\n",
    "YOU_SUSBSTR = 'Alice'\n",
    "ME_SUBSTR = 'Bob'"
   ]
  },
  {
   "cell_type": "markdown",
   "metadata": {},
   "source": [
    "## Vif du sujet"
   ]
  },
  {
   "cell_type": "code",
   "execution_count": 2,
   "metadata": {
    "collapsed": false
   },
   "outputs": [],
   "source": [
    "from PIL import Image\n",
    "import base64\n",
    "from IPython.display import HTML\n",
    "import pandas as pd\n",
    "from os.path import basename\n",
    "from io import BytesIO\n",
    "import glob\n",
    "\n",
    "def b64str_contents(fname, maxwidth=MAXWIDTH):\n",
    "    '''Return a scaled and jpeg verson of the file as a base 64 encoded string'''\n",
    "    try:\n",
    "        img = Image.open(fname)\n",
    "    except:\n",
    "        print('Could not load '+fname)\n",
    "        return ''\n",
    "    s= img.size\n",
    "    ratio = maxwidth/s[0]\n",
    "    img.thumbnail((s[0]*ratio, s[1]*ratio), resample=Image.ANTIALIAS)\n",
    "    buffer = BytesIO()\n",
    "    img.save(buffer, format=\"JPEG\")\n",
    "    return base64.b64encode(buffer.getvalue()).decode('ascii')\n",
    "\n",
    "def image_data_url(fname):\n",
    "    '''Return the data URL embedding the given image'''\n",
    "    answer='data:image/jpeg;base64,{contents}'\n",
    "    return answer.format(contents=b64str_contents(fname))\n",
    "\n",
    "from_me_to_you_template = '''<tr><td></td><td>{contents}</td></tr>'''\n",
    "from_russia_with_love_template = '''<tr><td>{contents}</td><td></td></tr>'''\n",
    "table_template = '''<table style=\"width:100%\"><tr><td><b>{you}</b></td><td><b>{me}</b></td></tr>{rows}</table>'''"
   ]
  },
  {
   "cell_type": "code",
   "execution_count": 3,
   "metadata": {
    "collapsed": false
   },
   "outputs": [],
   "source": [
    "html_df = pd.DataFrame(columns=['datehour', 'html'])\n",
    "def sms_to_html(row):\n",
    "    template = from_me_to_you_template if row['Correspondant'][0] == 'À' else from_russia_with_love_template\n",
    "    return template.format(contents=row['Message']).encode('utf8', 'ignore').decode('utf8')\n",
    "\n",
    "sms_df = pd.read_excel(SMS_FILE, header=1)\n",
    "sms_df['datehour'] = sms_df['Heure']\n",
    "sms_df['html'] = sms_df.apply(sms_to_html, axis=1)\n",
    "html_df = pd.concat([html_df, sms_df], join='inner')"
   ]
  },
  {
   "cell_type": "code",
   "execution_count": 4,
   "metadata": {
    "collapsed": false
   },
   "outputs": [],
   "source": [
    "fname_to_fullpath = {basename(fname):fname for fname in glob.glob('**/*.[jpg][pni][gf]', recursive=True)}  # If two \n",
    "# files have the same basename, there is a bug hidden in there\n",
    "# The [jpg][pni][gf] abomination will match jpg, png and gif\n",
    "# It will also match ppe, gng and pif, but that's an unfortunate side effect."
   ]
  },
  {
   "cell_type": "code",
   "execution_count": 5,
   "metadata": {
    "collapsed": false,
    "scrolled": true
   },
   "outputs": [],
   "source": [
    "mms_df = pd.read_excel(MMS_FILE, header=1)\n",
    "mms_df['datehour'] = mms_df['Heure']\n",
    "def mms_to_html(row):\n",
    "    template = from_me_to_you_template if ME_SUBSTR in row['De'] else from_russia_with_love_template\n",
    "    image_files = [fname for fname in row[['Pièce jointe #1', 'Pièce jointe #2', 'Pièce jointe #3']] if \n",
    "                  type(fname) == str and fname[-3:] in 'jpgpngpeggif']\n",
    "    img_template = '<img src=\"{url}\"/>'\n",
    "    return template.format(contents='\\n'.join([img_template.format(url=image_data_url(fname_to_fullpath[fname])) for \n",
    "                                              fname in image_files]))\n",
    "mms_df['html'] = mms_df.apply(mms_to_html, axis=1)\n",
    "html_df = pd.concat([html_df, mms_df], join='inner')"
   ]
  },
  {
   "cell_type": "code",
   "execution_count": 6,
   "metadata": {
    "collapsed": false
   },
   "outputs": [],
   "source": [
    "html_df.sort_values(by='datehour', inplace=True)\n",
    "html = table_template.format(you='Bob', me='Alice',\n",
    "                           rows='\\n'.join(html_df['html']))"
   ]
  },
  {
   "cell_type": "markdown",
   "metadata": {
    "collapsed": true
   },
   "source": [
    "## HTML and ODT  Export\n",
    "\n",
    "La variable `html` contient le tableau, que l'on peut sauver dans un fichier ou afficher directement"
   ]
  },
  {
   "cell_type": "code",
   "execution_count": 7,
   "metadata": {
    "collapsed": false
   },
   "outputs": [
    {
     "data": {
      "text/html": [
       "<table style=\"width:100%\"><tr><td><b>Bob</b></td><td><b>Alice</b></td></tr><tr><td></td><td>Hi Bob !</td></tr>\n",
       "<tr><td>Hi Alice !</td><td></td></tr>\n",
       "<tr><td></td><td>This software sure looks awesome.</td></tr>\n",
       "<tr><td><img src=\"data:image/jpeg;base64,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\"/></td><td></td></tr>\n",
       "<tr><td>It sure does.</td><td></td></tr>\n",
       "<tr><td></td><td>What a wonderful imaginary life we live ! No more Diffie Hellman, key exchanges or convuluted scenarios with Eve to sociopath, just cute pictures of small animals.</td></tr>\n",
       "<tr><td></td><td><img src=\"data:image/jpeg;base64,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\"/></td></tr></table>"
      ],
      "text/plain": [
       "<IPython.core.display.HTML object>"
      ]
     },
     "execution_count": 7,
     "metadata": {},
     "output_type": "execute_result"
    }
   ],
   "source": [
    "HTML(html)"
   ]
  },
  {
   "cell_type": "code",
   "execution_count": 8,
   "metadata": {
    "collapsed": false
   },
   "outputs": [
    {
     "data": {
      "text/plain": [
       "8597"
      ]
     },
     "execution_count": 8,
     "metadata": {},
     "output_type": "execute_result"
    }
   ],
   "source": [
    "open('Dialogue.html', 'w').write(html)"
   ]
  },
  {
   "cell_type": "markdown",
   "metadata": {},
   "source": [
    "Il faut ensuite convertir ce ficher en ODT, par exemple avec pandoc :\n",
    "\n",
    "    pandoc -f html -t odt < Dialogue.html  -o Dialogue.odt\n",
    "    \n",
    "L'ouverture directe de ce fichier dans LibreOffice, ou un copier-coller ne fonctionnent pas chez moi."
   ]
  }
 ],
 "metadata": {
  "kernelspec": {
   "display_name": "Python 3",
   "language": "python",
   "name": "python3"
  },
  "language_info": {
   "codemirror_mode": {
    "name": "ipython",
    "version": 3
   },
   "file_extension": ".py",
   "mimetype": "text/x-python",
   "name": "python",
   "nbconvert_exporter": "python",
   "pygments_lexer": "ipython3",
   "version": "3.5.0"
  }
 },
 "nbformat": 4,
 "nbformat_minor": 0
}
